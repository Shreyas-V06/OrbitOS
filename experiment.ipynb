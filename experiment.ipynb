{
 "cells": [
  {
   "cell_type": "code",
   "execution_count": 31,
   "id": "64e9776b",
   "metadata": {},
   "outputs": [],
   "source": [
    "# from pydantic import BaseModel, Field\n",
    "# from datetime import date\n",
    "\n",
    "# class CreateTodoInput(BaseModel):\n",
    "#     todo_name: str = Field(..., description=\"Name of the todo\")\n",
    "#     todo_checkbox: bool = Field(..., description=\"Whether it is completed\")\n",
    "#     todo_duedate: str = Field(..., description=\"Due date in YYYY-MM-DD format\")\n"
   ]
  },
  {
   "cell_type": "code",
   "execution_count": 9,
   "id": "a6aeb2c6",
   "metadata": {},
   "outputs": [],
   "source": [
    "import os\n",
    "import google.generativeai as genai #type:ignore\n",
    "from dotenv import load_dotenv\n",
    "from langchain_google_genai import ChatGoogleGenerativeAI\n",
    "\n",
    "load_dotenv()\n",
    "\n",
    "'''Returns an instance of Gemini LLM'''\n",
    "def InitializeGeminiLLM():\n",
    "    GeminiApiKey=os.getenv('GOOGLE_API_KEY')\n",
    "    genai.configure(api_key=GeminiApiKey)\n",
    "    GeminiLLM = ChatGoogleGenerativeAI(model=\"gemini-2.0-flash\")\n",
    "    return GeminiLLM\n",
    "\n",
    "LLM=InitializeGeminiLLM()"
   ]
  },
  {
   "cell_type": "code",
   "execution_count": 10,
   "id": "e45449ce",
   "metadata": {},
   "outputs": [],
   "source": [
    "from pydantic import Field,BaseModel\n",
    "from datetime import date\n",
    "from typing import Optional,List\n",
    "\n",
    "\n",
    "class TodoBase(BaseModel):\n",
    "    todo_name:str=Field(...,min_length=2,max_length=30,description=\"Name of the todo\")\n",
    "    todo_checkbox:bool=Field(False,description=\"Status of the todo\")\n",
    "    todo_duedate:date=Field(...,default_factory=date.today,description=\"Due date of the todo\")\n",
    "\n",
    "class TodoCreate(TodoBase):\n",
    "    pass"
   ]
  },
  {
   "cell_type": "code",
   "execution_count": 11,
   "id": "fceeeb0c",
   "metadata": {},
   "outputs": [],
   "source": [
    "request_message=\"\"\"You are an AI productivity assistant, your job is to create pythin objects using the following details\n",
    "{details}\"\"\"\n"
   ]
  },
  {
   "cell_type": "code",
   "execution_count": 12,
   "id": "ad302507",
   "metadata": {},
   "outputs": [],
   "source": [
    "from langchain.prompts.chat import HumanMessagePromptTemplate,ChatPromptTemplate\n",
    "from langchain.output_parsers import PydanticOutputParser\n",
    "\n",
    "def ObjectCreator(details:str):\n",
    "    parser=PydanticOutputParser(pydantic_object=TodoCreate)\n",
    "    human_prompt=HumanMessagePromptTemplate.from_template(\"{request}/n{format_instructions}\")\n",
    "    chat_prompt=ChatPromptTemplate.from_messages([human_prompt])\n",
    "\n",
    "    request_base=\"\"\"You are an AI productivity assistant, your job is to create pythin objects using the following details\\n\\n\"\"\"\n",
    "    request_message=request_base+details\n",
    "\n",
    "    request=chat_prompt.format_prompt(\n",
    "        request=request_message,\n",
    "        format_instructions=parser.get_format_instructions()\n",
    "    ).to_messages()\n",
    "\n",
    "    results=LLM(request)\n",
    "    result_values=parser.parse(results.content)\n",
    "\n",
    "    return result_values\n",
    "\n"
   ]
  },
  {
   "cell_type": "code",
   "execution_count": 14,
   "id": "14654cf2",
   "metadata": {},
   "outputs": [],
   "source": [
    "from langchain.agents import tool\n",
    "from langchain import hub\n",
    "from langchain.agents import AgentExecutor, create_react_agent\n",
    "import firebase_admin #type:ignore\n",
    "from firebase_admin import credentials,firestore #type:ignore\n",
    "import uuid\n",
    "import datetime\n",
    "import json\n",
    "def initialize_firestore():\n",
    "    if not firebase_admin._apps:\n",
    "        cred = credentials.Certificate(r\"C:\\Users\\Shreyas\\Desktop\\OrbitOS\\firebase_key.json\")\n",
    "        firebase_admin.initialize_app(cred)\n",
    "    db = firestore.client()\n",
    "    return db\n",
    "\n",
    "db=initialize_firestore()\n",
    "\n",
    "\n",
    "\n",
    "def create_todo_base(todo_data:TodoCreate):\n",
    "   \n",
    "    try:\n",
    "        \n",
    "        unique_id = f\"todo{uuid.uuid4().hex[:8]}\"\n",
    "        todo_dict = {\n",
    "            \"todo_name\": todo_data.todo_name,\n",
    "            \"todo_checkbox\": todo_data.todo_checkbox,\n",
    "            \"todo_duedate\": todo_data.todo_duedate.isoformat(),\n",
    "            \"unique_id\": unique_id,\n",
    "        }\n",
    "\n",
    "        todo_name= todo_dict['todo_name']\n",
    "        todo_date=todo_dict['todo_duedate']\n",
    "\n",
    "        db.collection(\"Todos\").document(unique_id).set(todo_dict)\n",
    "        result= \"Todo created successfully with following details:\\n\"+\"todo name = \"+todo_name+\"\\ntodo duedate = \"+todo_date\n",
    "        \n",
    "\n",
    "        return result\n",
    "\n",
    "\n",
    "    except Exception as e:\n",
    "        return {\"status\": \"error\", \"message\": str(e)}\n",
    "    \n",
    "\n",
    "@tool\n",
    "def create_todo_agent(todo_details:str):\n",
    "          \n",
    "     \"\"\"\n",
    "      Creates a new todo in Firestore.\n",
    "\n",
    "    This function accepts three seperate parameters and not a single parameter.\n",
    "\n",
    "    The parameters for this function are:\n",
    "    - todo_name: name of the todo (str value)\n",
    "    - todo_checkbox: whether it is completed (boolean value)\n",
    "    - todo_duedate: due date in YYYY-MM-DD format (str value)\n",
    "\n",
    "      \"\"\"\n",
    "     Todo=ObjectCreator(todo_details)\n",
    "     return create_todo_base(Todo)\n",
    "\n",
    "     \n",
    "\n",
    "    \n",
    "    \n",
    "     \n",
    "\n",
    "\n",
    "\n",
    "\n"
   ]
  },
  {
   "cell_type": "code",
   "execution_count": null,
   "id": "7f5ace44",
   "metadata": {},
   "outputs": [
    {
     "data": {
      "text/plain": [
       "{'status': 'success', 'id': 'todo11afdd7b'}"
      ]
     },
     "execution_count": 31,
     "metadata": {},
     "output_type": "execute_result"
    }
   ],
   "source": []
  },
  {
   "cell_type": "code",
   "execution_count": 15,
   "id": "cadfcf41",
   "metadata": {},
   "outputs": [
    {
     "name": "stderr",
     "output_type": "stream",
     "text": [
      "c:\\Users\\Shreyas\\Desktop\\OrbitOS\\venv\\Lib\\site-packages\\langsmith\\client.py:280: LangSmithMissingAPIKeyWarning: API key must be provided when using hosted LangSmith API\n",
      "  warnings.warn(\n"
     ]
    }
   ],
   "source": [
    "from langchain_core.prompts import PromptTemplate\n",
    "from langchain.agents import create_tool_calling_agent\n",
    "prompt = hub.pull(\"hwchase17/react\")\n",
    "\n",
    "tools=[create_todo_agent]\n",
    "agent = create_react_agent(LLM,tools,prompt)"
   ]
  },
  {
   "cell_type": "code",
   "execution_count": 17,
   "id": "e83ddc87",
   "metadata": {},
   "outputs": [
    {
     "name": "stdout",
     "output_type": "stream",
     "text": [
      "\n",
      "\n",
      "\u001b[1m> Entering new AgentExecutor chain...\u001b[0m\n",
      "\u001b[32;1m\u001b[1;3mOkay, I need to create three todos for learning drawing: \"Learn Shapes\", \"Learn Perspective\", and \"Learn Anatomy\". I will use the `create_todo_agent` tool for each. I will set the `todo_checkbox` to `False` for all of them, as they are new todos. I will set the `todo_duedate` to be one week apart from each other, starting from today. Today is 2024-01-26.\n",
      "\n",
      "Thought: I need to create the first todo: Learn Shapes\n",
      "Action: create_todo_agent\n",
      "Action Input: {'todo_name': 'Learn Shapes', 'todo_checkbox': False, 'todo_duedate': '2024-02-02'}\u001b[0m\u001b[36;1m\u001b[1;3mTodo created successfully with following details:\n",
      "todo name = Learn Shapes\n",
      "todo duedate = 2024-02-02\u001b[0m\u001b[32;1m\u001b[1;3mOkay, I need to create the second todo: Learn Perspective\n",
      "Action: create_todo_agent\n",
      "Action Input: {'todo_name': 'Learn Perspective', 'todo_checkbox': False, 'todo_duedate': '2024-02-09'}\u001b[0m\u001b[36;1m\u001b[1;3mTodo created successfully with following details:\n",
      "todo name = Learn Perspective\n",
      "todo duedate = 2024-02-09\u001b[0m\u001b[32;1m\u001b[1;3mOkay, I need to create the third todo: Learn Anatomy\n",
      "Action: create_todo_agent\n",
      "Action Input: {'todo_name': 'Learn Anatomy', 'todo_checkbox': False, 'todo_duedate': '2024-02-16'}\u001b[0m\u001b[36;1m\u001b[1;3mTodo created successfully with following details:\n",
      "todo name = Learn Anatomy\n",
      "todo duedate = 2024-02-16\u001b[0m\u001b[32;1m\u001b[1;3mI have successfully created the three todos.\n",
      "Final Answer: I have created three todos for you: Learn Shapes (due 2024-02-02), Learn Perspective (due 2024-02-09), and Learn Anatomy (due 2024-02-16).\u001b[0m\n",
      "\n",
      "\u001b[1m> Finished chain.\u001b[0m\n"
     ]
    },
    {
     "data": {
      "text/plain": [
       "{'input': 'Bro I want to learn drawing, my friend said to first learn drawing shapes, then perspective then anatomy. create me todos for three of these stages na pleasee',\n",
       " 'output': 'I have created three todos for you: Learn Shapes (due 2024-02-02), Learn Perspective (due 2024-02-09), and Learn Anatomy (due 2024-02-16).'}"
      ]
     },
     "execution_count": 17,
     "metadata": {},
     "output_type": "execute_result"
    }
   ],
   "source": [
    "agent_executor = AgentExecutor(agent=agent,tools=tools,verbose=True)\n",
    "human_input=\"Bro I want to learn drawing, my friend said to first learn drawing shapes, then perspective then anatomy. create me todos for three of these stages na pleasee\"\n",
    "agent_executor.invoke({\"input\":human_input})"
   ]
  }
 ],
 "metadata": {
  "kernelspec": {
   "display_name": "venv",
   "language": "python",
   "name": "python3"
  },
  "language_info": {
   "codemirror_mode": {
    "name": "ipython",
    "version": 3
   },
   "file_extension": ".py",
   "mimetype": "text/x-python",
   "name": "python",
   "nbconvert_exporter": "python",
   "pygments_lexer": "ipython3",
   "version": "3.12.4"
  }
 },
 "nbformat": 4,
 "nbformat_minor": 5
}
